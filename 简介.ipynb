{
 "cells": [
  {
   "cell_type": "markdown",
   "metadata": {},
   "source": [
    "# 概率机器人课后习题\n",
    "\n",
    "## 目录\n",
    "1. 第一章（无习题）\n",
    "2. [第二章 递归状态估计](ch2_recursive_state_estimation/第二章-递归状态估计.ipynb)\n",
    "3. [第三章 高斯滤波](ch3_guassian_filters/第三章-高斯滤波.ipynb)\n",
    "4. [第四章 非参数滤波](ch4_nonparametric_filters/第四章-非参数滤波.ipynb)\n",
    "4. [第五章 机器人运动](ch5_robot_motion/第五章-机器人运动.ipynb)"
   ]
  },
  {
   "cell_type": "markdown",
   "metadata": {},
   "source": [
    "[Github Repo](https://github.com/Yu-Xiaoxian/probabilistic_robotics_exercises)"
   ]
  }
 ],
 "metadata": {
  "kernelspec": {
   "display_name": "Python 3",
   "language": "python",
   "name": "python3"
  },
  "language_info": {
   "codemirror_mode": {
    "name": "ipython",
    "version": 3
   },
   "file_extension": ".py",
   "mimetype": "text/x-python",
   "name": "python",
   "nbconvert_exporter": "python",
   "pygments_lexer": "ipython3",
   "version": "3.5.2"
  }
 },
 "nbformat": 4,
 "nbformat_minor": 2
}
