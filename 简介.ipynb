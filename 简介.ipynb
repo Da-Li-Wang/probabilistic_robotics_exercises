{
 "cells": [
  {
   "cell_type": "markdown",
   "metadata": {},
   "source": [
    "# 概率机器人课后习题\n",
    "\n",
    "## 目录\n",
    "1. 第一章（无习题）\n",
    "2. [第二章 递归状态估计](ch02_recursive_state_estimation/%E7%AC%AC%E4%BA%8C%E7%AB%A0-%E9%80%92%E5%BD%92%E7%8A%B6%E6%80%81%E4%BC%B0%E8%AE%A1.ipynb)\n",
    "3. [第三章 高斯滤波](ch03_gaussian_filters/%E7%AC%AC%E4%B8%89%E7%AB%A0-%E9%AB%98%E6%96%AF%E6%BB%A4%E6%B3%A2.ipynb)\n",
    "4. [第四章 非参数滤波](ch04_nonparametric_filters/%E7%AC%AC%E5%9B%9B%E7%AB%A0-%E9%9D%9E%E5%8F%82%E6%95%B0%E6%BB%A4%E6%B3%A2.ipynb)\n",
    "5. [第五章 机器人运动](ch05_robot_motion/%E7%AC%AC%E4%BA%94%E7%AB%A0-%E6%9C%BA%E5%99%A8%E4%BA%BA%E8%BF%90%E5%8A%A8.ipynb)\n",
    "6. [第六章 机器人感知](ch06_robot_perception/%E7%AC%AC%E5%85%AD%E7%AB%A0-%E6%9C%BA%E5%99%A8%E4%BA%BA%E6%84%9F%E7%9F%A5.ipynb)\n",
    "7. [第七章 移动机器人定位](ch07_mrl_markov_and_gaussian/%E7%AC%AC%E4%B8%83%E7%AB%A0-%E7%A7%BB%E5%8A%A8%E6%9C%BA%E5%99%A8%E4%BA%BA%E5%AE%9A%E4%BD%8D-%E9%A9%AC%E5%B0%94%E5%8F%AF%E5%A4%AB%E4%B8%8E%E9%AB%98%E6%96%AF.ipynb)"
   ]
  },
  {
   "cell_type": "markdown",
   "metadata": {},
   "source": [
    "[Github Repo](https://github.com/Yu-Xiaoxian/probabilistic_robotics_exercises)"
   ]
  }
 ],
 "metadata": {
  "kernelspec": {
   "display_name": "Python 3",
   "language": "python",
   "name": "python3"
  },
  "language_info": {
   "codemirror_mode": {
    "name": "ipython",
    "version": 3
   },
   "file_extension": ".py",
   "mimetype": "text/x-python",
   "name": "python",
   "nbconvert_exporter": "python",
   "pygments_lexer": "ipython3",
   "version": "3.5.2"
  }
 },
 "nbformat": 4,
 "nbformat_minor": 2
}
