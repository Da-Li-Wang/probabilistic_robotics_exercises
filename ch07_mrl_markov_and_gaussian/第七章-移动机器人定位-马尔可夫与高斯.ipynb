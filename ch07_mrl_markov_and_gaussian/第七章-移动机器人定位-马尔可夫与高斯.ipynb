{
 "cells": [
  {
   "cell_type": "markdown",
   "metadata": {},
   "source": [
    "# 第七章 移动机器人定位：马尔可夫与高斯\n",
    "\n",
    "## 1. 假设机器人安装了传感器可以测量地标的距离和方位，以及地标的身份。当看到一个地标时，通常用高斯近似的不好，然而当有两个地标时，通常可以很好的近似。\n",
    "a) 请解释为什么\n",
    "b) 给定k个可辨认地标的k组距离和方位，在均匀分布的前提下，设计计算高斯位置估计的程序\n",
    "\n",
    "### a) 为什么两个地标能用高斯很好的近似，而单个地标不行\n",
    "需要注意的是，这里的地标本身不包含角度信息，也就是说，根据地标推断出的机器人位置，将分布在以地标为中心的圆上，显然高斯分布没有办法近似这样的分布。当存在两个地标时，推导出的机器人位置时两个圆的交点，使用角度信息排除一个点后，机器人位置将分布在一个点附近，这可以使用高斯分布比较好地近似。\n",
    "\n",
    "### b) 设计计算高斯位置分布的程序\n"
   ]
  }
 ],
 "metadata": {
  "kernelspec": {
   "display_name": "Python 3",
   "language": "python",
   "name": "python3"
  },
  "language_info": {
   "codemirror_mode": {
    "name": "ipython",
    "version": 3
   },
   "file_extension": ".py",
   "mimetype": "text/x-python",
   "name": "python",
   "nbconvert_exporter": "python",
   "pygments_lexer": "ipython3",
   "version": "3.5.2"
  }
 },
 "nbformat": 4,
 "nbformat_minor": 2
}
