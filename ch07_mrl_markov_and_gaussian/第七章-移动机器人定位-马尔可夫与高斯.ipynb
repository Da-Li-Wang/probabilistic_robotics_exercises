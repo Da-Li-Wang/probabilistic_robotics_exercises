{
 "cells": [
  {
   "cell_type": "markdown",
   "metadata": {},
   "source": [
    "# 第七章 移动机器人定位：马尔可夫与高斯\n",
    "\n",
    "## 1. 假设机器人安装了传感器可以测量地标的距离和方位，以及地标的身份。当看到一个地标时，通常用高斯近似的不好，然而当有两个地标时，通常可以很好的近似。\n",
    "a) 请解释为什么\n",
    "\n",
    "b) 给定k个可辨认地标的k组距离和方位，在均匀分布的前提下，设计计算高斯位置估计的程序\n",
    "\n",
    "### a) 为什么两个地标能用高斯很好的近似，而单个地标不行\n",
    "需要注意的是，这里的地标本身不包含角度信息，也就是说，根据地标推断出的机器人位置，将分布在以地标为中心的圆上，高斯分布没有办法近似这样的分布。当存在两个地标时，推导出的机器人位置时两个圆的交点，使用角度信息排除一个点后，机器人位置将分布在一个点附近，这可以使用高斯分布比较好地近似。"
   ]
  },
  {
   "cell_type": "markdown",
   "metadata": {},
   "source": [
    "### b) 设计计算高斯位置分布的程序\n",
    "\n",
    "根据贝叶斯公式可以得到\n",
    "$$\n",
    "p(x,y,\\theta|z_{1:k}) = p(z_{1:k}|x,y,\\theta)p(x,y,\\theta)\n",
    "$$\n",
    "由于每个路标都是相互独立的，因此\n",
    "$$\n",
    "p\\left(z_{1: k} | x, y, \\theta\\right)=\\prod_{i=1}^{k} p\\left(z_{i} | x, y, \\theta\\right)\n",
    "$$"
   ]
  },
  {
   "cell_type": "markdown",
   "metadata": {},
   "source": [
    "根据6.6节的公式可以得到\n",
    "$$\n",
    "\\begin{aligned}\n",
    "p\\left(z_{i} | x, y, \\theta\\right) &=p_{n}\\left(r_{i}-\\hat{r}_{i}\\right) \\cdot p_{n}\\left(\\theta_{i}-\\hat{\\theta}_{i}\\right) \\\\\n",
    "&=e^{-\\frac{1}{2\\sigma_{r}^{2}}\\left(r_{i}-\\hat{r}_{i}\\right)^{2} } \\cdot e^{-\\frac{1}{2\\sigma_{\\theta}^{2}}\\left(\\theta_{i}-\\hat{\\theta}_{i}\\right)^{2} }\n",
    "\\end{aligned}\n",
    "$$\n",
    "其中\n",
    "$$\n",
    "\\begin{array}{l}\n",
    "\\hat{r}_{i}=\\sqrt{\\left(x_{z i}-x\\right)^{2}+\\left(y_{z i}-y\\right)^{2}} \\\\\n",
    "\\hat{\\theta}_{i}=normalized\\left(\\theta_{z i}-\\theta\\right)\n",
    "\\end{array}\n",
    "$$"
   ]
  },
  {
   "cell_type": "markdown",
   "metadata": {},
   "source": [
    "可以发现$p\\left(z_{1: k} | x, y, \\theta\\right)$ 是非线性的\n",
    "$$\n",
    "Z = h(x,y,\\theta)= \\begin{bmatrix} z_{1}(x,y,\\theta) \\\\ z_{2}(x,y,\\theta) \\\\ ... \\\\ z_{k}(x,y,\\theta) \\end{bmatrix}\n",
    "  = \\begin{bmatrix} \\hat{r}_{1}(x,y,\\theta) \\\\ \\hat{\\theta}_{1}(x,y,\\theta) \\\\ \\hat{r}_{2}(x,y,\\theta) \\\\ \\hat{\\theta}_{2}(x,y,\\theta) \\\\ ... \\\\ \\hat{r}_{k}(x,y,\\theta) \\\\ \\hat{\\theta}_{k}(x,y,\\theta) \\\\ \\end{bmatrix}\n",
    "$$\n",
    "需要做泰勒展开\n",
    "$$\n",
    "H=\\left[\\frac{\\partial h}{\\partial x}, \\frac{\\partial h}{\\partial y}, \\frac{\\partial h}{\\partial \\theta}\\right]\n",
    "$$"
   ]
  },
  {
   "cell_type": "markdown",
   "metadata": {},
   "source": [
    "可以得到\n",
    "$$\n",
    "\\begin{align}\n",
    "\\mu_{t} &= h(\\mu_{t-1}) + H(X-\\mu_{t-1}) \\\\\n",
    "\\Sigma_{t} &= H\\Sigma_{t-1}H^{T} + R_{t}\n",
    "\\end{align}\n",
    "$$"
   ]
  },
  {
   "cell_type": "markdown",
   "metadata": {},
   "source": [
    "# 2. 这个问题中，试图为全局定位设计困难环境。假设用n个不相交的线段构成一个平面环境，环境的自由空间受到限制，然而地图里可能存在已占用区域的孤岛。假设机器人装备栏额360个测距仪组成的环形阵列，而且测距仪从不出错。\n",
    "a) 机器人置信函数中，全局定位机器人可能面对的不同模式最大数目是多少？\n",
    "b) 如果测距仪可以出错的话，分析会有变化吗？"
   ]
  },
  {
   "cell_type": "markdown",
   "metadata": {},
   "source": [
    "不能理解这道题，有两点：\n",
    "1. 怎样用不相交的线段构成平面环境\n",
    "2. 什么是不同的模式"
   ]
  },
  {
   "cell_type": "markdown",
   "metadata": {},
   "source": [
    "# 3. 水下机器人\n",
    "对简单的水下机器人，推导扩展卡尔曼滤波定位算法。机器人在三维空间，并装备了完美的指南针。为简单起见，假设机器人按照设定的速率$\\dot{x}, \\dot{y}, \\dot{z}$ 在三个笛卡尔方向上独立运动，且运动噪声是高斯的。\n",
    "\n",
    "机器人被信号灯塔包围，信标灯塔发射声学信号，每个信号的发射时间已知，每个信标的真实位置已知。机器人可以区分信标灯塔，并根据接收时间计算灯塔距离，但无法确定灯塔角度。\n",
    "\n",
    "a) 设计扩展卡尔曼滤波定位算法，包括运动模型和测量模型的泰勒级数展开\n",
    "\n",
    "b) 实现扩展卡尔曼滤波和环境仿真，研究扩展卡尔曼滤波定位器在三种定位问题下的精度和失效问题：全局定位，位置跟踪，绑架机器人问题"
   ]
  },
  {
   "cell_type": "markdown",
   "metadata": {},
   "source": [
    "## a) 设计扩展卡尔曼滤波定位算法"
   ]
  },
  {
   "cell_type": "markdown",
   "metadata": {},
   "source": [
    "首先导出运动模型，设速度为$V$，且速度的噪声是高斯的，$t$时刻的噪声记为$\\delta_t$\n",
    "$$\n",
    "X_t = X_{t-1} + V \\cdot \\Delta t + \\delta_t \\\\\n",
    "$$"
   ]
  },
  {
   "cell_type": "markdown",
   "metadata": {},
   "source": [
    "其中\n",
    "$$\n",
    "\\begin{align}\n",
    "X_t &= [x, y, z]^T \\\\\n",
    "V_t &= [\\dot(x), \\dot(y), \\dot(z)]^T\n",
    "\\end{align}\n",
    "$$"
   ]
  },
  {
   "cell_type": "markdown",
   "metadata": {},
   "source": [
    "然后导出测量模型，设灯塔坐标为$P=[px,py,pz]^T$，灯塔距离的测量值为$M$，\n",
    "$$\n",
    "M_t = h(X_t) = |P-X_t|=\n",
    "\\begin{bmatrix}\n",
    "\\sqrt{(P_{1,x} - X_{t,x})^2 + (P_{1,y} - X_{t,y})^2 + (P_{1,z} - X_{t,z})^2} \\\\\n",
    "\\sqrt{(P_{2,x} - X_{t,x})^2 + (P_{2,y} - X_{t,y})^2 + (P_{2,z} - X_{t,z})^2} \\\\\n",
    "... \\\\\n",
    "\\sqrt{(P_{n,x} - X_{t,x})^2 + (P_{n,y} - X_{t,y})^2 + (P_{n,z} - X_{t,z})^2} \\\\\n",
    "\\end{bmatrix}\n",
    "=\n",
    "\\begin{bmatrix}\n",
    "dist(P_1 -X_t) \\\\\n",
    "dist(P_2 -X_t) \\\\\n",
    "...    \\\\\n",
    "dist(P_n -X_t) \\\\\n",
    "\\end{bmatrix}\n",
    "$$"
   ]
  },
  {
   "cell_type": "markdown",
   "metadata": {},
   "source": [
    "做泰勒级数展开后得到\n",
    "$$\n",
    "H=\\left[\\frac{\\partial M}{\\partial x}, \\frac{\\partial M}{\\partial y}, \\frac{\\partial M}{\\partial z}\\right]\n",
    "=\n",
    "\\begin{bmatrix}\n",
    "\\frac{x}{dist(P_1-X_t)}, \\frac{y}{dist(P_1-X_t)}, \\frac{z}{dist(P_1-X_t)} \\\\\n",
    "\\frac{x}{dist(P_2-X_t)}, \\frac{y}{dist(P_2-X_t)}, \\frac{z}{dist(P_2-X_t)} \\\\\n",
    "... \\\\\n",
    "\\frac{x}{dist(P_n-X_t)}, \\frac{y}{dist(P_n-X_t)}, \\frac{z}{dist(P_n-X_t)} \\\\\n",
    "\\end{bmatrix}\n",
    "$$"
   ]
  }
 ],
 "metadata": {
  "kernelspec": {
   "display_name": "Python 3",
   "language": "python",
   "name": "python3"
  },
  "language_info": {
   "codemirror_mode": {
    "name": "ipython",
    "version": 3
   },
   "file_extension": ".py",
   "mimetype": "text/x-python",
   "name": "python",
   "nbconvert_exporter": "python",
   "pygments_lexer": "ipython3",
   "version": "3.6.9"
  }
 },
 "nbformat": 4,
 "nbformat_minor": 2
}
