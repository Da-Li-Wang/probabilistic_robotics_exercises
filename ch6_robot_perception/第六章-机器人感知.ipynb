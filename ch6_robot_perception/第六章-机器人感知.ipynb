{
 "cells": [
  {
   "cell_type": "markdown",
   "metadata": {},
   "source": [
    "# 第六章 机器人感知"
   ]
  },
  {
   "cell_type": "markdown",
   "metadata": {},
   "source": [
    "## 1. 假设一个十字标志在天花板上，位置为$x_m$，$y_m$，$\\theta_m$，使用相机观测标志的坐标为$x_i$，$y_i$，$\\theta_i$，相机焦距为$f$，天花板高度为$h$，那么$x-y$平面的平移$d$投影到图像平面后为$d\\frac{f}{h}$，请问：\n",
    "- a): 当图像坐标为$(x_i, y_i, \\theta_i)$，机器人位置为$(x_r, y_r, \\theta_r)$时，求出十字标志的位置$(x_m, y_m, \\theta_m)$\n",
    "- b): 给出由机器人位置$(x_r, y_r, \\theta_r)$和标记坐标$(x_m, y_m, \\theta_m)$确定图像坐标$(x_i, y_i, \\theta_i)$的公式\n",
    "- c): 给出由标记坐标$(x_m, y_m, \\theta_m)$和图像坐标$(x_i, y_i, \\theta_i)$确定机器人位置$(x_r, y_r, \\theta_r)$的公式\n",
    "- d): 假设有多个坐标，讨论需要多少个标志可以唯一确定机器人的位置\n",
    "注意：十字坐标是对称的"
   ]
  },
  {
   "cell_type": "markdown",
   "metadata": {},
   "source": [
    "### a) 已知图像坐标和机器人位置坐标，求标志位置\n",
    "图像坐标系与机器人坐标系一致，可以求得十字标志的坐标为\n",
    "$$\n",
    "\\begin{bmatrix} x_m \\\\ y_m \\\\ \\theta_m \\end{bmatrix} = \\begin{bmatrix} x_r \\\\ y_r\\\\ \\theta_r \\end{bmatrix} + \\begin{bmatrix} \\cos \\theta_r & -\\sin \\theta_r &0 \\\\ \\sin \\theta_r & \\cos \\theta_r &0 \\\\ 0 &0 &1\\end{bmatrix} \\begin{bmatrix} x_i \\frac{h}{f} \\\\ y_i \\frac{h}{f} \\\\ \\theta_i \\end{bmatrix}\n",
    "$$\n",
    "考虑坐标的对称性，图像坐标的可能取值有四种$\\theta_i + \\frac{k\\pi}{2}(k=0,1,2,3)$，因此标志坐标的角度也有四种取值$\\theta_m + \\frac{k\\pi}{2}(k=0,1,2,3)$"
   ]
  },
  {
   "cell_type": "markdown",
   "metadata": {},
   "source": [
    "### b) 已知机器人位置和标记坐标，求图像坐标\n",
    "根据a）中公式可以方便推导出\n",
    "$$\n",
    "\\begin{bmatrix} x_i  \\\\ y_i \\\\ \\theta_i \\end{bmatrix} = \\begin{bmatrix} \\cos \\theta_r \\frac{h}{f}& -\\sin \\theta_r \\frac{h}{f}&0 \\\\ \\sin \\theta_r \\frac{h}{f}& \\cos \\theta_r \\frac{h}{f}&0 \\\\ 0 &0 &1\\end{bmatrix}^{-1} \\begin{bmatrix} x_m - x_r\\\\ y_m -y_r \\\\ \\theta_m -\\theta_r \\end{bmatrix} \n",
    "$$"
   ]
  },
  {
   "cell_type": "markdown",
   "metadata": {},
   "source": [
    "### c) 已知标记坐标和图像坐标，求机器人位置\n",
    "根据 a)中公式依然可以计算出机器人位置，不过需要注意的是，这里需要先求出$\\theta_r$，然后再计算$x_r,y_r$\n",
    "$$\n",
    "\\begin{align}\n",
    "\\theta_r &= \\theta_m - \\theta_i \\\\\n",
    "\\begin{bmatrix} x_r \\\\ y_r \\end{bmatrix} &= \\begin{bmatrix} \\cos \\theta_r &-\\sin \\theta_r \\\\ \\sin \\theta_r &\\cos \\theta_r \\end{bmatrix} \\begin{bmatrix} x_i \\\\ y_i\\end{bmatrix}\n",
    "\\end{align}\n",
    "$$\n",
    "\n",
    "需要注意的是，$\\theta_i$有四种取值，因此$\\theta_r$也有四种取值，最终导致$x_r,y_r$也存在四种取值"
   ]
  },
  {
   "cell_type": "markdown",
   "metadata": {},
   "source": [
    "### d) 多少个标志可以唯一确定机器人的位置\n",
    "两个标志可以唯一确定机器人的位置，因为两个十字标志就不再是中心对称的图形"
   ]
  },
  {
   "cell_type": "markdown",
   "metadata": {},
   "source": [
    "## 2. 若坐标是非对称的倒T型，并且图像采样时存在高斯的噪声，均值为0，协方差为$\\Sigma=\\begin{bmatrix}\\sigma^2 &0 &0 \\\\ 0 &\\sigma^2 &0\\\\ 0 &0 &0 \\end{bmatrix}$，计算下述三个问题的噪声分布\n",
    "- a) 已知图像坐标和机器人位置，求标志坐标\n",
    "- b) 已知机器人位置和标记坐标，求图像坐标\n",
    "- c) 已知标记坐标和图像坐标，求机器人位置"
   ]
  }
 ],
 "metadata": {
  "kernelspec": {
   "display_name": "Python 3",
   "language": "python",
   "name": "python3"
  },
  "language_info": {
   "codemirror_mode": {
    "name": "ipython",
    "version": 3
   },
   "file_extension": ".py",
   "mimetype": "text/x-python",
   "name": "python",
   "nbconvert_exporter": "python",
   "pygments_lexer": "ipython3",
   "version": "3.5.2"
  }
 },
 "nbformat": 4,
 "nbformat_minor": 4
}
