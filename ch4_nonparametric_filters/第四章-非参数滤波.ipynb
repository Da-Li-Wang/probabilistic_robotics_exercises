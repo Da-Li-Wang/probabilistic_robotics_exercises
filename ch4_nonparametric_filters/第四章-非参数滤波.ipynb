{
 "cells": [
  {
   "cell_type": "markdown",
   "metadata": {},
   "source": [
    "# 第四章 非参数滤波\n",
    "\n",
    "## 1. 对前面章节讨论的线性系统进行直方图滤波\n",
    "\n",
    "### a). 对3.1的动态系统进行直方图滤波，绘制$t=1,2,...,5$每个时刻的$x,\\dot{x}$联合概率分布\n",
    "\n",
    "根据3.1的分析，可以得到"
   ]
  },
  {
   "cell_type": "markdown",
   "metadata": {},
   "source": [
    "$$\n",
    "\\begin{align}\n",
    "A&=\\begin{bmatrix}1 &1\\\\0 &1 \\end{bmatrix} \\\\\n",
    "B&=\\begin{bmatrix}\\frac{1}{2} \\\\1 \\end{bmatrix} \\\\\n",
    "R&=\\begin{bmatrix}\\frac{1}{4} &\\frac{1}{2}\\\\\\frac{1}{2} &1 \\end{bmatrix} + \\begin{bmatrix}1 &1\\\\1 &1 \\end{bmatrix}\\times 10^{-5}\n",
    "\\end{align}\n",
    "$$\n",
    "\n",
    "注：其中协方差矩阵 $R$ 是奇异矩阵不可逆，为计算高斯分布的概率，需要在该矩阵上加小量使其可逆"
   ]
  },
  {
   "cell_type": "code",
   "execution_count": 1,
   "metadata": {},
   "outputs": [],
   "source": [
    "import numpy as np\n",
    "import math\n",
    "import matplotlib.pyplot as plt\n",
    "from mpl_toolkits.mplot3d import Axes3D\n",
    "\n",
    "A = np.mat([[1, 1],[0, 1]])\n",
    "B = np.mat([[0.5], [1.0]])\n",
    "mu = np.mat([[0],[0]])\n",
    "R = B*B.T + np.ones(2)*1e-5"
   ]
  },
  {
   "cell_type": "markdown",
   "metadata": {},
   "source": [
    "为进行直方图滤波，首先需要对状态空间进行离散化，这里将$\\begin{bmatrix} x \\\\ \\dot{x} \\end{bmatrix} $ 划分在 $-10\\sim 10$ 的空间，步长取 $0.25$，时刻$t$的概率分布由下式给定\n",
    "\n",
    "$$\n",
    "\\begin{align}\n",
    "p(x_t)=\\sum_{x_{min}}^{x_{max}}\\sum_{\\dot{x}_{min}}^{\\dot{x}_{max}}p(x_t|x_{t-1})*p(x_{t-1})\n",
    "\\end{align}\n",
    "$$\n",
    "\n",
    "其中状态转移函数$p(x_t|x_{t-1})$与3.1中一致，系统初始概率分布由 $\\Sigma_0=\\begin{bmatrix}10^{-10} &0\\\\0 &10^{-10} \\end{bmatrix}$ 确定"
   ]
  },
  {
   "cell_type": "code",
   "execution_count": 2,
   "metadata": {},
   "outputs": [
    {
     "name": "stdout",
     "output_type": "stream",
     "text": [
      "figure 0\n",
      "figure 1\n",
      "figure 2\n",
      "figure 3\n",
      "figure 4\n",
      "figure 5\n"
     ]
    },
    {
     "data": {
      "image/png": "[encoded data removed]",
      "text/plain": [
       "<Figure size 432x288 with 12 Axes>"
      ]
     },
     "metadata": {
      "needs_background": "light"
     },
     "output_type": "display_data"
    }
   ],
   "source": [
    "Sigma_0 = np.mat([[1e-5, 0],[0, 1e-5]])\n",
    "\n",
    "delta = 0.5\n",
    "X_max = 10\n",
    "X_dot_max = 10\n",
    "X_min = -10\n",
    "X_dot_min = -10\n",
    "\n",
    "X=np.arange(X_min, X_max, delta)\n",
    "X_dot=np.arange(X_dot_min, X_dot_max, delta)\n",
    "X, X_dot=np.meshgrid(X, X_dot)\n",
    "P=np.zeros(X.shape)\n",
    "#initialize P_0\n",
    "i=math.floor(X.shape[0]/2)\n",
    "j=math.floor(X.shape[1]/2)\n",
    "P[i, j] = 0.25\n",
    "P[i+1, j] = 0.25\n",
    "P[i, j+1] = 0.25\n",
    "P[i+1, j+1] = 0.25\n",
    "\n",
    "fig,ax = plt.subplots(2,3)\n",
    "\n",
    "#from time 0 to 5\n",
    "for fi in range(6):\n",
    "    print(\"figure\", fi)\n",
    "    ax = fig.add_subplot(2,3,1+fi)\n",
    "    P_bar=np.zeros(X.shape)\n",
    "\n",
    "    # calculate probabilitics\n",
    "    sum = 0.0\n",
    "    for i in range(P_bar.shape[0]):\n",
    "        for j in range(P_bar.shape[1]):\n",
    "            X_t=np.mat([[X[i,j]] , [X_dot[i,j]]])\n",
    "            for i_t_1 in range(P.shape[0]):\n",
    "                for j_t_1 in range(P.shape[1]):\n",
    "                    X_t_1=np.mat([[X[i_t_1,j_t_1]], [X_dot[i_t_1,j_t_1]]])\n",
    "                    P_bar[i][j]+=math.pow(math.e, -1.0/2.0 * (X_t-A*X_t_1).T * R.I * (X_t-A*X_t_1))*P[i_t_1, j_t_1]\n",
    "            sum+=P_bar[i][j]\n",
    "    P_bar=P_bar/sum\n",
    "\n",
    "    ax.contourf(X, X_dot, P, cmap='rainbow')\n",
    "    P = P_bar\n",
    "\n",
    "plt.show()"
   ]
  },
  {
   "cell_type": "markdown",
   "metadata": {},
   "source": [
    "### b). 对3.2的观测步骤进行直方图滤波，对比观测更新前和更新后的概率分布\n",
    "\n",
    "根据3.2 可以得到观测矩阵以及观测概率函数\n",
    "$$\n",
    "\\begin{align}\n",
    "C &= \\begin{bmatrix} 1 &0 \\end{bmatrix} \\\\\n",
    "Q &= 10 \\\\\n",
    "p(z_t|x_t) &\\sim N(Cx_t, Q)\n",
    "\\end{align}\n",
    "$$\n",
    "通过测量跟新可以得到新的概率分布如下"
   ]
  },
  {
   "cell_type": "code",
   "execution_count": 3,
   "metadata": {},
   "outputs": [
    {
     "data": {
      "image/png": "[encoded data removed]",
      "text/plain": [
       "<Figure size 432x288 with 1 Axes>"
      ]
     },
     "metadata": {
      "needs_background": "light"
     },
     "output_type": "display_data"
    }
   ],
   "source": [
    "C = np.mat([1, 0])\n",
    "Q = np.mat([10])\n",
    "Z = 5\n",
    "P_z = np.zeros(P.shape)\n",
    "sum = 0.0\n",
    "for i in range(P_z.shape[0]):\n",
    "    for j in range(P_z.shape[1]):\n",
    "        X_t=np.mat([[X[i][j]], [X_dot[i][j]]])\n",
    "        P_z[i,j] = math.pow(math.e, -1.0/2.0 * (Z-C*X_t).T * Q.I * (Z-C*X_t))*P[i, j]\n",
    "        sum+=P_z[i,j]\n",
    "P_z=P_z/sum\n",
    "\n",
    "fig=plt.figure()\n",
    "ax=fig.add_subplot(111)\n",
    "ax.contourf(X, X_dot, P_z, cmap='rainbow')\n",
    "plt.show()"
   ]
  },
  {
   "cell_type": "markdown",
   "metadata": {},
   "source": [
    "## 2. 对习题3.4进行直方图滤波实现\n",
    "\n",
    "### a). 为直方图滤波建议一个合适的初值估计\n",
    "\n",
    "初值估计由三维高斯分布给定，分布的均值和方差如下\n",
    "\n",
    "$$\n",
    "\\begin{align}\n",
    "\\mu_0 &= \\begin{bmatrix}0 \\\\0 \\\\0 \\end{bmatrix} \\\\\n",
    "\\Sigma_0 &= \\begin{bmatrix} 0.01 &0 &0 \\\\0 &0.01 &0 \\\\0 &0 &10000 \\end{bmatrix}\n",
    "\\end{align}\n",
    "$$"
   ]
  },
  {
   "cell_type": "code",
   "execution_count": 4,
   "metadata": {},
   "outputs": [
    {
     "data": {
      "image/png": "[encoded data removed]",
      "text/plain": [
       "<Figure size 432x288 with 1 Axes>"
      ]
     },
     "metadata": {
      "needs_background": "light"
     },
     "output_type": "display_data"
    }
   ],
   "source": [
    "delta = 0.1\n",
    "X_max = 3\n",
    "Y_max = 3\n",
    "X_min = -3\n",
    "Y_min = -3\n",
    "Theta_max = 2 * math.pi\n",
    "Theta_min = 0\n",
    "\n",
    "X = np.arange(X_min, X_max, delta)\n",
    "Y = np.arange(Y_min, Y_max, delta)\n",
    "Theta = np.arange(Theta_min, Theta_max, delta)\n",
    "P_0=np.zeros((X.size,Y.size,Theta.size))\n",
    "\n",
    "X_mesh, Y_mesh = np.meshgrid(X,Y)\n",
    "\n",
    "mu = np.mat([[0.0], [0.0],[0.0]])\n",
    "Sigma_0 = np.mat([[0.01, 0,0], [0,0.01,0], [0,0,10000]])\n",
    "\n",
    "sum = 0\n",
    "for i in range(X.size):\n",
    "    for j in range(Y.size):\n",
    "        for k in range(Theta.size):\n",
    "            x = np.mat([[X[i]],[Y[j]],[Theta[k]]])\n",
    "            P_0[i,j,k] = math.pow(math.e, -1.0/2.0*(x - mu).T*Sigma_0.I*(x-mu))\n",
    "            sum += P_0[i,j,k]\n",
    "P_0 = P_0/sum\n",
    "\n",
    "P_0_s = np.zeros((X.size, Y.size))\n",
    "for i in range(X.size):\n",
    "    for j in range(Y.size):\n",
    "        for k in range(Theta.size):\n",
    "            P_0_s[i,j] += P_0[i,j,k]\n",
    "            sum += P_0[i,j,k]\n",
    "P_0_s /= sum \n",
    "\n",
    "fig=plt.figure()\n",
    "ax=fig.add_subplot(111)\n",
    "ax.contourf(X_mesh, Y_mesh, P_0_s, cmap='rainbow')\n",
    "plt.show()"
   ]
  },
  {
   "cell_type": "markdown",
   "metadata": {},
   "source": [
    "### b). 实现直方图滤波预测步骤并与EKF的结果进行对比\n",
    "\n",
    "首先需要获得状态转移函数的概率分布，题目中假设机器人可以不受噪声影响的移动，那么有\n",
    "\n",
    "$$\n",
    "p(x_t|x_{t-1}) =\n",
    " \\begin{cases} \n",
    "1 &&x_t = g(x_{t-1}, u_t) \\\\\n",
    "0 &&x_t \\not= g(x_{t-1}, u_t)\n",
    "\\end{cases} \n",
    "$$\n",
    "\n",
    "其中$g(x_{t-1}, u_t)$ 为预测方程\n",
    "$$\n",
    "g(x_{t-1}, u_t)= \\begin{bmatrix} x_{t-1} + u_t \\cos(\\theta_{t-1}) \\\\ y_{t-1} + u_t \\sin(\\theta_{t-1}) \\\\ \\theta_{t-1} \\end{bmatrix}\n",
    "$$"
   ]
  },
  {
   "cell_type": "code",
   "execution_count": 5,
   "metadata": {},
   "outputs": [
    {
     "data": {
      "image/png": "[encoded data removed]",
      "text/plain": [
       "<Figure size 432x288 with 1 Axes>"
      ]
     },
     "metadata": {
      "needs_background": "light"
     },
     "output_type": "display_data"
    }
   ],
   "source": [
    "P_1 = np.zeros(P_0.shape)\n",
    "delta_v = np.mat([[delta],[delta],[delta]])\n",
    "x_min_v = np.mat([[X_min],[Y_min],[Theta_min]])\n",
    "\n",
    "def g(x_t_1):\n",
    "    x_t = x_t_1 + np.mat([[math.cos(x_t_1[2])],[math.sin(x_t_1[2])],[0]])\n",
    "    return x_t\n",
    "\n",
    "def compute_index(x_t):\n",
    "    index = math.floor(np.div(x_t-x_min_v,delta_v))\n",
    "    if index[0] >= X.size:\n",
    "        index[0] = X.size -1\n",
    "    if index[0] < 0:\n",
    "        index[0] = 0\n",
    "    if index[1] >= Y.size:\n",
    "        index[1] = Y.size -1\n",
    "    if index[1] < 0:\n",
    "        index[1] = 0\n",
    "    if index[2] >= Theta.size:\n",
    "        index[2] = Theta.size -1\n",
    "    if index[2] < 0:\n",
    "        index[2] = 0\n",
    "    return index\n",
    "\n",
    "for i_t_1 in range(X.size):\n",
    "    for j_t_1 in range(Y.size):\n",
    "        for k_t_1 in range(Theta.size):\n",
    "            x_t_1 = np.mat([[X[i_t_1]],[Y[j_t_1]],[Theta[k_t_1]]])\n",
    "            x_t = g(x_t_1)\n",
    "            i = math.floor((x_t[0] - X_min)/delta)\n",
    "            j = math.floor((x_t[1] - Y_min)/delta)\n",
    "            k = math.floor((x_t[2] - Theta_min)/delta)\n",
    "            if i >= X.size:\n",
    "                i = X.size -1\n",
    "            if i < 0:\n",
    "                i = 0\n",
    "            if j >= Y.size:\n",
    "                j = Y.size -1\n",
    "            if j < 0:\n",
    "                j = 0\n",
    "            if k >= Theta.size:\n",
    "                k = Theta.size -1\n",
    "            if k < 0:\n",
    "                k = 0\n",
    "            P_1[i,j,k] += 1*P_0[i_t_1, j_t_1, k_t_1]\n",
    "\n",
    "            sum = 0\n",
    "P_1_s = np.zeros((X.size, Y.size))\n",
    "for i in range(X.size):\n",
    "    for j in range(Y.size):\n",
    "        for k in range(Theta.size):\n",
    "            P_1_s[i,j] += P_1[i,j,k]\n",
    "            sum += P_1[i,j,k]\n",
    "P_1_s /= sum     \n",
    "\n",
    "fig=plt.figure()\n",
    "ax=fig.add_subplot(111)\n",
    "ax.contourf(X_mesh, Y_mesh, P_1_s, cmap='rainbow')\n",
    "plt.show()"
   ]
  },
  {
   "cell_type": "markdown",
   "metadata": {},
   "source": [
    "### c). 将测量归并入估计，将结果与EKF进行比较\n",
    "\n",
    "根据题意可以知道，观测方程的噪声满足高斯分布，方差为$0.01$，可以得到观测方程和观测函数的概率函数如下\n",
    "\n",
    "$$\n",
    "\\begin{align}\n",
    "z_t&=Cx_t+\\delta_t \\\\\n",
    "p(z_t|x_t) &\\sim N(Cx_t, Q_t)\n",
    "\\end{align}\n",
    "$$\n",
    "\n",
    "其中 $C = \\begin{bmatrix} 1 &0 &0 \\end{bmatrix}$ \n",
    "\n",
    "下面分别计算观测值分别为 $ z = -1.0, 0.5, 0, 0.5, 1.0$ 时的位置分布，画出对应的热力图"
   ]
  },
  {
   "cell_type": "code",
   "execution_count": 6,
   "metadata": {},
   "outputs": [
    {
     "name": "stdout",
     "output_type": "stream",
     "text": [
      "figure 0 z:  [[-1.]]\n",
      "figure 1 z:  [[-0.5]]\n",
      "figure 2 z:  [[0.]]\n",
      "figure 3 z:  [[0.5]]\n",
      "figure 4 z:  [[1.]]\n"
     ]
    },
    {
     "data": {
      "image/png": "[encoded data removed]",
      "text/plain": [
       "<Figure size 432x288 with 11 Axes>"
      ]
     },
     "metadata": {
      "needs_background": "light"
     },
     "output_type": "display_data"
    }
   ],
   "source": [
    "P_1_f = np.zeros(P_1.shape)\n",
    "C = np.mat([[1,0,0]])\n",
    "Q = np.mat([[0.01]])\n",
    "\n",
    "fig, ax = plt.subplots(2,3)\n",
    "for fi in range(5):\n",
    "    z = np.mat([[-1.0+fi*0.5]])\n",
    "    print(\"figure\", fi, \"z: \", z)\n",
    "    ax = fig.add_subplot(2,3,1+fi)\n",
    "    for i in range(X.size):\n",
    "        for j in range(Y.size):\n",
    "            for k in range(Theta.size):\n",
    "                x_t = np.mat([[X[i]],[Y[j]],[Theta[k]]])\n",
    "                P_1_f[i,j,k] = math.pow(math.e, -1.0/2.0*(z - C*x_t).T*Q.I*(z - C*x_t))*P_1[i,j,k]\n",
    "\n",
    "    P_1_fs = np.zeros((X.size, Y.size))\n",
    "    for i in range(X.size):\n",
    "        for j in range(Y.size):\n",
    "            for k in range(Theta.size):\n",
    "                P_1_fs[i,j] += P_1_f[i,j,k]\n",
    "            sum += P_1_fs[i,j]\n",
    "    P_1_fs /= sum \n",
    "    ax.contourf(X, Y, P_1_fs, cmap='rainbow')\n",
    "    \n",
    "plt.show()"
   ]
  },
  {
   "cell_type": "markdown",
   "metadata": {},
   "source": [
    "结果有些奇怪，应该是按照x来分布的，但结果像是按照y分布的，好像是坐标轴选错出了问题，还没有搞清楚是怎么回事？"
   ]
  },
  {
   "cell_type": "markdown",
   "metadata": {},
   "source": [
    "## 3. 本章讨论了使用单一粒子的效果，如果M=2时会怎样？\n",
    "\n",
    "采用单一粒子时，测量概率对更新结果不起作用，这是由于无论权重因子多大，都会在归一化步骤将其归一称为1，那么测量更新就唯一地由预测概率$\\bar{bel}(x_t|u_t)$ 决定。\n",
    "\n",
    "那么当$M=2$时，不考虑重采样过程导致的粒子缺乏，单一粒子时的影响会极大程度地减弱，因为此时更新测量开始起作用，不在唯一地由预测概率$\\bar{bel}(x_t|u_t)$决定。但采样偏差是依然存在的，假设观测更新满足正态分布，如果两个粒子全部落在正态分布的尾部，那么下一次进行预测更新时，机器人的均值将偏离正态分布的中心。"
   ]
  },
  {
   "cell_type": "markdown",
   "metadata": {},
   "source": [
    "## 4. 使用粒子滤波实现习题4.1\n",
    "\n",
    "\n",
    "### a).  不考虑观测，计算$t=1,2,...,5$时刻的概率分布\n",
    "\n",
    "为方便推导和阅读，这里再次重申初值，方差，状态转移方程以及概率方程\n",
    "\n",
    "$$\n",
    "\\begin{align}\n",
    "\\mu_0 &= \\begin{bmatrix} 0 \\\\0 \\end{bmatrix}\n",
    "&\\Sigma_0 &= \\begin{bmatrix} 0 &0 \\\\0 &0 \\end{bmatrix}\\\\\n",
    "x_t&=Ax_{t-1} + Bu_t +\\epsilon_t\\\\\n",
    "p(x_t|x_{t-1}) &\\sim N(x_t - Ax_{t-1} - Bu_t, R_t)\\\\\n",
    "A&=\\begin{bmatrix} 1 &1 \\\\0 &1 \\end{bmatrix} \n",
    "&B&=\\begin{bmatrix} 1/2 \\\\1 \\end{bmatrix}\n",
    "&R_t&=\\begin{bmatrix} 1/4 &1/2 \\\\1/2 &1 \\end{bmatrix}\\\\\n",
    "\\end{align}\n",
    "$$\n",
    "\n",
    "如果不考虑观测步骤，各个粒子的重要性由$p(x_t|x_t{t_1},u_t)$，于是可以省略重要性重采样步骤"
   ]
  },
  {
   "cell_type": "code",
   "execution_count": 57,
   "metadata": {},
   "outputs": [
    {
     "data": {
      "image/png": "[encoded data removed]",
      "text/plain": [
       "<Figure size 432x288 with 12 Axes>"
      ]
     },
     "metadata": {
      "needs_background": "light"
     },
     "output_type": "display_data"
    }
   ],
   "source": [
    "M=200\n",
    "mu_0 = np.array([0,0])\n",
    "A=np.mat([[1.0, 1.0],[0.0, 1.0]])\n",
    "B=np.mat([[0.5],[1.0]])\n",
    "R=np.mat([[0.25, 0.5],[0.5, 1.0]])+np.ones(2)*1e-5\n",
    "particles=np.zeros((M,2))\n",
    "weight=np.zeros((M,1))\n",
    "    \n",
    "fig, ax = plt.subplots(2,3)\n",
    "ax = fig.add_subplot(2,3,1)\n",
    "ax.scatter(particles[:,0], particles[:,1], marker='.')\n",
    "for fi in range(5):\n",
    "    ax = fig.add_subplot(2,3,2+fi)\n",
    "    for i in range(M):\n",
    "        particle = np.mat(particles[i,:])\n",
    "        temp_mu = A*particle.T\n",
    "        temp_mu = np.array([temp_mu[0,0], temp_mu[1,0]])\n",
    "        particles[i,:] = np.random.multivariate_normal(mean=temp_mu, cov=R, size=1)\n",
    "    ax.scatter(particles[:,0], particles[:,1], marker='.')\n",
    "    \n",
    "plt.show()"
   ]
  },
  {
   "cell_type": "markdown",
   "metadata": {},
   "source": [
    "### b). 对观测步骤进fangc行粒子滤波，并将滤波前和滤波后结果进行对比\n",
    "\n",
    "得到观测方程和观测概率 $p(z_t|x_t)$ \n",
    "\n",
    "$$\n",
    "\\begin{align}\n",
    "z_t &= Cx_t + \\delta_t \\\\\n",
    "p(z_t|x_t) &\\sim N(Cx_t, Q_t) \\\\\n",
    "C &= \\begin{bmatrix} 1 &0 \\end{bmatrix} \n",
    "&Q_t &= 10\n",
    "\\end{align}\n",
    "$$\n",
    "\n",
    "首先计算各个粒子的权重，然后使用地方差采样法进行重要性重采样"
   ]
  },
  {
   "cell_type": "code",
   "execution_count": 64,
   "metadata": {},
   "outputs": [
    {
     "name": "stdout",
     "output_type": "stream",
     "text": [
      "0.3522311005654212\n"
     ]
    },
    {
     "data": {
      "image/png": "[encoded data removed]",
      "text/plain": [
       "<Figure size 432x288 with 1 Axes>"
      ]
     },
     "metadata": {
      "needs_background": "light"
     },
     "output_type": "display_data"
    }
   ],
   "source": [
    "C = np.mat([1,0])\n",
    "Q = np.mat([10.0])\n",
    "weights = np.zeros((M,1))\n",
    "Weights = np.zeros((M+1,1))\n",
    "z = 5\n",
    "\n",
    "for i in range(M):\n",
    "    particle = np.mat(particles[i,:])\n",
    "    temp_z = C*particle.T\n",
    "    weights[i,:] = math.pow(math.e, -1.0/2.0 * (z-temp_z).T*Q.I*(z-temp_z))\n",
    "    Weights[i+1, :] = Weights[i,:] + weights[i,:]\n",
    "    \n",
    "particles_f=np.zeros((M,2))\n",
    "delta_w = Weights[M,0]/M\n",
    "j = 0\n",
    "for i in range(M):\n",
    "    weight = delta_w * i\n",
    "    while weight > Weights[j]:\n",
    "        j+=1\n",
    "    particles_f[i,:]=particles[j-1,:]\n",
    "    \n",
    "fig = plt.figure()\n",
    "ax = fig.add_subplot(111)\n",
    "ax.scatter(particles_f[:,0], particles_f[:,1], c='b', marker='x')\n",
    "ax.scatter(particles[:,0], particles[:,1], c='r', marker='.')\n",
    "plt.show()"
   ]
  },
  {
   "cell_type": "markdown",
   "metadata": {},
   "source": [
    "如上图，蓝色叉为滤波后的分布，红色圆点为滤波前的分布"
   ]
  }
 ],
 "metadata": {
  "kernelspec": {
   "display_name": "Python 3",
   "language": "python",
   "name": "python3"
  },
  "language_info": {
   "codemirror_mode": {
    "name": "ipython",
    "version": 3
   },
   "file_extension": ".py",
   "mimetype": "text/x-python",
   "name": "python",
   "nbconvert_exporter": "python",
   "pygments_lexer": "ipython3",
   "version": "3.5.2"
  }
 },
 "nbformat": 4,
 "nbformat_minor": 4
}
