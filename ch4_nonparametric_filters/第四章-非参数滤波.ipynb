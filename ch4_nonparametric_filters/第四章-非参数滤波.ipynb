{
 "cells": [
  {
   "cell_type": "markdown",
   "metadata": {},
   "source": [
    "# 第四章 非参数滤波\n",
    "\n",
    "## 1. 对前面章节讨论的线性系统进行直方图滤波\n",
    "\n",
    "### a). 对3.1的动态系统进行直方图滤波，绘制$t=1,2,...,5$每个时刻的$x,\\dot{x}$联合概率分布"
   ]
  },
  {
   "cell_type": "code",
   "execution_count": 1,
   "metadata": {},
   "outputs": [],
   "source": [
    "import numpy as np\n",
    "import math\n",
    "import matplotlib.pyplot as plt\n",
    "from mpl_toolkits.mplot3d import Axes3D\n",
    "\n",
    "A = np.mat([[1, 1],[0, 1]])\n",
    "B = np.mat([[0.5], [1.0]])\n",
    "mu = np.mat([[0],[0]])\n",
    "R = B*B.T\n",
    "Sigma = np.mat([[2.5,2.0],[2.0,2.0]])\n",
    "\n",
    "fig = plt.figure()\n",
    "\n",
    "ax = fig.add_subplot(1,1,1, projection='3d')\n",
    "X=np.arange(-10, 10, 0.10)\n",
    "X_dot=np.arange(-10, 10, 0.10)\n",
    "X, X_dot=np.meshgrid(X, X_dot)\n",
    "P_bar=np.zeros(X.shape)\n",
    "\n",
    "# calculate probabilitics\n",
    "for i in range(P_bar.shape[0]):\n",
    "    for j in range(P_bar.shape[1]):\n",
    "        X_temp=np.mat([[X[i][j]], [X_dot[i][j]]])\n",
    "        P_bar[i][j]=math.pow(math.e, -1.0/2.0 * X_temp.T * Sigma.I * X_temp)\n",
    "\n",
    "ax.plot_surface(X, X_dot, P_bar, rstride=1, cstride=1, cmap='rainbow')\n",
    "\n",
    "plt.show()"
   ]
  },
  {
   "cell_type": "markdown",
   "metadata": {},
   "source": [
    "### b). 对3.2的观测步骤进行直方图滤波，对比观测更新前和更新后的概率分布"
   ]
  }
 ],
 "metadata": {
  "kernelspec": {
   "display_name": "Python 2",
   "language": "python",
   "name": "python2"
  },
  "language_info": {
   "codemirror_mode": {
    "name": "ipython",
    "version": 2
   },
   "file_extension": ".py",
   "mimetype": "text/x-python",
   "name": "python",
   "nbconvert_exporter": "python",
   "pygments_lexer": "ipython2",
   "version": "2.7.10"
  }
 },
 "nbformat": 4,
 "nbformat_minor": 4
}
