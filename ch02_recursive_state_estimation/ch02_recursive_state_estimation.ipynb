{
 "cells": [
  {
   "cell_type": "markdown",
   "metadata": {},
   "source": [
    "# Chapter 2 Recursive state estimation\n",
    "\n",
    "## Ex2.1 "
   ]
  },
  {
   "cell_type": "code",
   "execution_count": null,
   "metadata": {},
   "outputs": [],
   "source": [
    "p = [0.01, 0.99]\n",
    "eta = 1"
   ]
  },
  {
   "cell_type": "code",
   "execution_count": 2,
   "metadata": {},
   "outputs": [
    {
     "name": "stdout",
     "output_type": "stream",
     "text": [
      "(1, 0.029411764705882353, 0.9705882352941176, 2.941176470588235)\n",
      "(2, 0.08333333333333333, 0.9166666666666666, 2.833333333333333)\n",
      "(3, 0.2142857142857143, 0.7857142857142857, 2.5714285714285716)\n",
      "(4, 0.45000000000000007, 0.55, 2.1)\n",
      "(5, 0.7105263157894737, 0.2894736842105263, 1.5789473684210524)\n",
      "(6, 0.8804347826086958, 0.11956521739130438, 1.2391304347826089)\n",
      "(7, 0.9566929133858267, 0.043307086614173235, 1.0866141732283463)\n",
      "(8, 0.9851351351351351, 0.014864864864864866, 1.0297297297297296)\n",
      "(9, 0.9949954504094631, 0.0050045495905368526, 1.0100090991810737)\n",
      "(10, 0.9983262325015215, 0.0016737674984783934, 1.0033475349969567)\n"
     ]
    }
   ],
   "source": [
    "for i in range(1 , 11):\n",
    "    p = [p[0]*1, p[1]*1/3]\n",
    "    eta = 1/(p[0] + p[1])\n",
    "    p = [p[0]*eta, p[1]*eta]\n",
    "    print(i, p[0], p[1], eta)"
   ]
  }
 ],
 "metadata": {
  "kernelspec": {
   "display_name": "Python 2",
   "language": "python",
   "name": "python2"
  },
  "language_info": {
   "codemirror_mode": {
    "name": "ipython",
    "version": 2
   },
   "file_extension": ".py",
   "mimetype": "text/x-python",
   "name": "python",
   "nbconvert_exporter": "python",
   "pygments_lexer": "ipython2",
   "version": "2.7.10"
  }
 },
 "nbformat": 4,
 "nbformat_minor": 2
}
