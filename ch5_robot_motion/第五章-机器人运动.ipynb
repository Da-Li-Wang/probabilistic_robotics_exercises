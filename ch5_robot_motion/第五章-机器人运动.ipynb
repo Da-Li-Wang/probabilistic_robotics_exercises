{
 "cells": [
  {
   "cell_type": "markdown",
   "metadata": {},
   "source": [
    "# 第五章 机器人运动\n",
    "\n",
    "## 1. 本章所有机器人模型都是运动学的（kinematic），现考虑动力学（dynamic）。假设一维坐标系中的机器人，$x$ 表示位置，$\\dot{x}$ 表示速度，$\\ddot{x}$ 表示加速度，假设加速度是给定加速度与高斯噪声$N(0,\\sigma^2)$ 之和，并且在$\\Delta t$ 时间内保持恒定。请问经过$\\Delta t$ 时间后的 $x'$ 与 $\\dot{x}'$ 相关吗？为什么？"
   ]
  },
  {
   "cell_type": "markdown",
   "metadata": {},
   "source": [
    "首先给出机器人的状态转移方程\n",
    "$$\n",
    "\\begin{align}\n",
    "\\begin{bmatrix} x' \\\\ \\dot{x}'\\end{bmatrix} &=\n",
    "\\begin{bmatrix} x + \\dot{x} \\Delta t + \\frac{1}{2} \\ddot{x} \\Delta t^2 \\\\ \\dot{x} + \\ddot{x} \\Delta t\\end{bmatrix} \n",
    "\\end{align}\n",
    "$$"
   ]
  },
  {
   "cell_type": "markdown",
   "metadata": {},
   "source": [
    "可以发现$x'=x + \\dot{x}' \\Delta t - \\frac{1}{2} \\ddot{x} \\Delta t^2$，即已知$\\dot{x}'$可以唯一确定 $x'$，所以$x'$和$\\dot{x}'$两者相关，且为强相关。"
   ]
  },
  {
   "cell_type": "markdown",
   "metadata": {},
   "source": [
    "## 2. 为题目5.1中的后验分布提供数学公式，并指出值得注意的部分"
   ]
  },
  {
   "cell_type": "markdown",
   "metadata": {},
   "source": [
    "根据习题5.1中的运动方程\n",
    "$$\n",
    "\\begin{align}\n",
    "\\begin{bmatrix} x' \\\\ \\dot{x}'\\end{bmatrix} &=\n",
    "\\begin{bmatrix} x + \\dot{x} \\Delta t + \\frac{1}{2} \\ddot{x} \\Delta t^2 \\\\ \\dot{x} + \\ddot{x} \\Delta t\\end{bmatrix} \\\\\n",
    "&=\\begin{bmatrix} x + \\dot{x} \\Delta t + \\frac{1}{2} \\hat{\\ddot{x}} \\Delta t^2 \\\\ \\dot{x} + \\hat{\\ddot{x}} \\Delta t\\end{bmatrix}  \n",
    "+ \\begin{bmatrix} \\frac{1}{2} \\epsilon \\Delta t^2 \\\\ \\epsilon \\Delta t \\end{bmatrix} \\\\\n",
    "&=\\begin{bmatrix} 1 &\\Delta t \\\\ 0 &1 \\end{bmatrix} \\begin{bmatrix} x \\\\ \\dot{x}\\end{bmatrix} + \\begin{bmatrix} \\frac{1}{2} (\\Delta t)^2 \\\\ \\Delta t \\end{bmatrix} \\hat{\\ddot{x}} + \\begin{bmatrix} \\frac{1}{2} (\\Delta t)^2 \\\\ \\Delta t \\end{bmatrix} \\epsilon\n",
    "\\end{align}\n",
    "$$"
   ]
  },
  {
   "cell_type": "markdown",
   "metadata": {},
   "source": [
    "## 3. 假设控制机器人在$T$ 时间间隔具有随机加速度，最终$x$ 和$\\dot{x}$ 是相关的吗？随着$T \\to \\infty$ 依然是相关的吗？是确定的函数吗？"
   ]
  },
  {
   "cell_type": "markdown",
   "metadata": {},
   "source": [
    "## 4. 考虑简单理想自行车模型，轮胎直径为$d$，安装在长度为$l$ 的框架上，前轮绕竖直轴线转动，转角为$\\alpha$，后轮与车框架保持平行不能转动。 自行车位姿使用三个变量定义：前轮中心位置$x,y$，自行车框架的角度$\\theta$，控制是速度$v$和前轮转角$\\alpha$，并在每一个预测周期内恒定。假定$v$和$\\alpha$ 受高斯噪声影响，请给出$\\Delta t$ 时间间隔的预测模型。"
   ]
  },
  {
   "cell_type": "markdown",
   "metadata": {},
   "source": [
    "## 5. 考虑5.4中的运动学模型，在同样噪声假设下实现自行车后验位姿的采样函数。假设$l=100cm$，$d=80cm$，$\\Delta t=1s$，$|\\alpha|\\leq 80°$，$v \\in [0;100]cm/s$。转向角方差$\\sigma_{\\alpha}=25°^2$，速度方差$\\sigma_v=(50cm^2/s^2)v^2$，注意速度方差与速度相关。请画出多组控制参数产生的采样集。\n",
    "\n",
    "| 问题编号 |  $\\alpha$   |    $v$   |\n",
    "|---------|-------------|----------|\n",
    "|     1   |     $25°$   |  $20cm/s$|\n",
    "|     2   |    $-25°$   |  $20cm/s$|\n",
    "|     3   |     $25°$   |  $90cm/s$|\n",
    "|     4   |     $80°$   |  $10cm/s$|\n",
    "|     5   |     $80°$   |  $90cm/s$|"
   ]
  },
  {
   "cell_type": "markdown",
   "metadata": {},
   "source": [
    "## 6. 考虑5.4中运动模型，给定初始状态$x$、$y$、$\\theta$和最终$x`$、$y`$（没有$\\theta `$），计算最可能的$\\alpha$，$v$、$\\theta `$，给出数学公式。"
   ]
  },
  {
   "cell_type": "markdown",
   "metadata": {},
   "source": [
    "## 7. 假定机器人的驱动器是完整的，具有与姿态为数相同的自由度，能够控制前向速度，正交侧向速度，以及旋转角速度，请给出：\n",
    "- 机器人的数学模型（控制量受独立高斯噪声影响）\n",
    "- 计算$p(x_t|u_t, x_{t-1})$\n",
    "- 给出采样$x\\sim p(x_t|u_t, x_{t-1})$的过程"
   ]
  },
  {
   "cell_type": "markdown",
   "metadata": {},
   "source": [
    "## 8. 证明式（5.12）的三角分布均值为$0$，方差为$b^2$"
   ]
  },
  {
   "cell_type": "code",
   "execution_count": null,
   "metadata": {},
   "outputs": [],
   "source": []
  }
 ],
 "metadata": {
  "kernelspec": {
   "display_name": "Python 3",
   "language": "python",
   "name": "python3"
  },
  "language_info": {
   "codemirror_mode": {
    "name": "ipython",
    "version": 3
   },
   "file_extension": ".py",
   "mimetype": "text/x-python",
   "name": "python",
   "nbconvert_exporter": "python",
   "pygments_lexer": "ipython3",
   "version": "3.5.2"
  }
 },
 "nbformat": 4,
 "nbformat_minor": 4
}
