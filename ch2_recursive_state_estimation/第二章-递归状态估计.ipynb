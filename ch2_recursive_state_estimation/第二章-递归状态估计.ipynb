{
 "cells": [
  {
   "cell_type": "markdown",
   "metadata": {},
   "source": [
    "# 第二章 递归状态估计\n",
    "\n",
    "## Ex2.1 \n",
    "这道题目与2.4.2 的例题很相似，练习离散贝叶斯滤波的使用。根据题意可知：\n",
    "$$\n",
    "\\begin{align}\n",
    "&bel(X_0=broken) &=0.01 \\\\\n",
    "&bel(X_0=not\\_broken) &= 0.99 \\\\\n",
    "&p(Z_t<1|X_t=broken) &= 1 \\\\\n",
    "&p(Z_t<1|X_t=not\\_broken) &= 1/3\n",
    "\\end{align}\n",
    "$$\n",
    "其中$Z_t$ 表示 t 时刻距离传感器的测量值，在 0 ~ 3m 范围内连续取值；$X_t$ 表示距离传感器的状态，取值为离散的 broken ，not_broken。系统初值可以在代码中表示如下"
   ]
  },
  {
   "cell_type": "code",
   "execution_count": null,
   "metadata": {},
   "outputs": [],
   "source": [
    "p = [0.01, 0.99]\n",
    "eta = 1"
   ]
  },
  {
   "cell_type": "markdown",
   "metadata": {},
   "source": [
    "下面根据贝叶斯滤波算法进行计算，由于这道题中没有对距离传感器进行任何控制，因此贝叶斯滤波的第一步（预测）并不改变系统状态的置信度：\n",
    "\n",
    "$$\n",
    "\\begin{align}\n",
    "\\bar{bel}(X_t) = bel(X_{t-1})\n",
    "\\end{align}\n",
    "$$\n",
    "\n",
    "贝叶斯滤波的第二步（观测），题干中介绍到$Z_t < 1$，于是有以下递推式\n",
    "$$\n",
    "\\begin{align}\n",
    "&bel(X_t=broken) &= \\eta p(Z_t<1|X_t=broken)\\bar{bel}(X_t=broken) \\\\\n",
    "&bel(X_t=not\\_broken) &= \\eta p(Z_t<1|X_t=not\\_broken)\\bar{bel}(X_t=not\\_broken) \n",
    "\\end{align}\n",
    "$$\n",
    "\n",
    "其中 $\\eta$ 为归一化因子\n",
    "$$\n",
    "\\eta = [p(Z_t<1|X_t=broken)\\bar{bel}(X_t=broken) + \\\\ p(Z_t<1|X_t=not\\_broken)\\bar{bel}(X_t=not\\_broken)]^{-1}\n",
    "$$\n",
    "\n",
    "\n",
    "对以上5、6、7式代入先验初值1、2进行迭代，即可得到各个时刻距离传感器故障的概率如下"
   ]
  },
  {
   "cell_type": "code",
   "execution_count": 2,
   "metadata": {},
   "outputs": [
    {
     "name": "stdout",
     "output_type": "stream",
     "text": [
      "(1, 0.029411764705882353, 0.9705882352941176, 2.941176470588235)\n",
      "(2, 0.08333333333333333, 0.9166666666666666, 2.833333333333333)\n",
      "(3, 0.2142857142857143, 0.7857142857142857, 2.5714285714285716)\n",
      "(4, 0.45000000000000007, 0.55, 2.1)\n",
      "(5, 0.7105263157894737, 0.2894736842105263, 1.5789473684210524)\n",
      "(6, 0.8804347826086958, 0.11956521739130438, 1.2391304347826089)\n",
      "(7, 0.9566929133858267, 0.043307086614173235, 1.0866141732283463)\n",
      "(8, 0.9851351351351351, 0.014864864864864866, 1.0297297297297296)\n",
      "(9, 0.9949954504094631, 0.0050045495905368526, 1.0100090991810737)\n",
      "(10, 0.9983262325015215, 0.0016737674984783934, 1.0033475349969567)\n"
     ]
    }
   ],
   "source": [
    "for i in range(1 , 11):\n",
    "    p = [p[0]*1, p[1]*1/3]\n",
    "    eta = 1/(p[0] + p[1])\n",
    "    p = [p[0]*eta, p[1]*eta]\n",
    "    print(i, p[0], p[1], eta)"
   ]
  }
 ],
 "metadata": {
  "kernelspec": {
   "display_name": "Python 2",
   "language": "python",
   "name": "python2"
  },
  "language_info": {
   "codemirror_mode": {
    "name": "ipython",
    "version": 2
   },
   "file_extension": ".py",
   "mimetype": "text/x-python",
   "name": "python",
   "nbconvert_exporter": "python",
   "pygments_lexer": "ipython2",
   "version": "2.7.10"
  }
 },
 "nbformat": 4,
 "nbformat_minor": 2
}
